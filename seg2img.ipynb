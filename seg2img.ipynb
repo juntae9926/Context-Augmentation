{
 "cells": [
  {
   "cell_type": "code",
   "execution_count": 16,
   "id": "01d7d01a",
   "metadata": {},
   "outputs": [],
   "source": [
    "import json\n",
    "\n",
    "with open('instances_val2017.json','r') as f:\n",
    "    json_data=json.load(f)\n",
    "\n"
   ]
  },
  {
   "cell_type": "code",
   "execution_count": 17,
   "id": "1259cf02",
   "metadata": {},
   "outputs": [],
   "source": [
    "annotation=json_data['annotations']"
   ]
  },
  {
   "cell_type": "code",
   "execution_count": 18,
   "id": "11543cfb",
   "metadata": {},
   "outputs": [
    {
     "name": "stdout",
     "output_type": "stream",
     "text": [
      "<class 'list'>\n"
     ]
    }
   ],
   "source": [
    "print(type(annotation))"
   ]
  },
  {
   "cell_type": "code",
   "execution_count": 19,
   "id": "95c40a41",
   "metadata": {},
   "outputs": [],
   "source": [
    "result_dict={}\n",
    "\n",
    "for i in annotation:\n",
    "    if i['image_id'] not in result_dict:\n",
    "        result_dict[i['image_id']]={}\n",
    "        result_dict[i['image_id']]['segmentation']=[]\n",
    "        result_dict[i['image_id']][\"area\"]=[]\n",
    "        result_dict[i['image_id']][\"iscrowd\"]=[]\n",
    "        result_dict[i['image_id']][\"bbox\"]=[]\n",
    "        result_dict[i['image_id']][\"category_id\"]=[]\n",
    "    \n",
    "    result_dict[i['image_id']]['segmentation'].append(i['segmentation'])\n",
    "    result_dict[i['image_id']][\"area\"].append(i[\"area\"])\n",
    "    result_dict[i['image_id']][\"iscrowd\"].append(i['iscrowd'])\n",
    "    result_dict[i['image_id']][\"bbox\"].append(i[\"bbox\"])\n",
    "    result_dict[i['image_id']][\"category_id\"].append(i[\"category_id\"])\n",
    "    "
   ]
  },
  {
   "cell_type": "code",
   "execution_count": 20,
   "id": "2f720c37",
   "metadata": {},
   "outputs": [],
   "source": [
    "with open('result.json','w',encoding='utf-8') as make_file:\n",
    "    json.dump(result_dict,make_file,indent='\\t')"
   ]
  },
  {
   "cell_type": "code",
   "execution_count": null,
   "id": "bf63d963",
   "metadata": {},
   "outputs": [],
   "source": []
  }
 ],
 "metadata": {
  "kernelspec": {
   "display_name": "Python 3",
   "language": "python",
   "name": "python3"
  },
  "language_info": {
   "codemirror_mode": {
    "name": "ipython",
    "version": 3
   },
   "file_extension": ".py",
   "mimetype": "text/x-python",
   "name": "python",
   "nbconvert_exporter": "python",
   "pygments_lexer": "ipython3",
   "version": "3.9.7"
  }
 },
 "nbformat": 4,
 "nbformat_minor": 5
}
